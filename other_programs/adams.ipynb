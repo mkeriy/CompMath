{
 "cells": [
  {
   "cell_type": "code",
   "execution_count": 61,
   "metadata": {},
   "outputs": [],
   "source": [
    "import numpy as np \n",
    "import matplotlib.pyplot as plt\n",
    "import pandas as pd"
   ]
  },
  {
   "cell_type": "markdown",
   "metadata": {},
   "source": [
    "**Решить задачу Коши методом Адамса 4 порядка**\n",
    "$$2x^{2} y^{'} - 2y^2 - 3xy + 2x = 0, 1 \\le x \\le 2$$\n",
    "Начальные условия: $y(1) = 0.5$ \n",
    "\n",
    "С погрешностью: $\\varepsilon = 0.0001$\n"
   ]
  },
  {
   "cell_type": "code",
   "execution_count": 62,
   "metadata": {},
   "outputs": [],
   "source": [
    "def f(x, y):\n",
    "    '''\n",
    "    функция правой части, где в левой стоит производная y по x\n",
    "    '''\n",
    "    return y**2 / x**2 + 1.5 * y / x - x**-1\n",
    "\n",
    "def analytical_solve(x):\n",
    "    '''\n",
    "    аналитическое решение\n",
    "    '''\n",
    "    return np.sqrt(x) - x / 2"
   ]
  },
  {
   "cell_type": "code",
   "execution_count": 63,
   "metadata": {},
   "outputs": [],
   "source": [
    "def find_step(delta, epsilon=0.0001):\n",
    "    '''\n",
    "    находим шаг вычислений\n",
    "    '''\n",
    "    i = 1\n",
    "    while  (delta / i)**4 - epsilon > 0.0:\n",
    "        i += 1\n",
    "    return i\n",
    "\n",
    "def RK(x, y, h):\n",
    "    '''\n",
    "    Метод Рунге-Кутта\n",
    "    '''\n",
    "\n",
    "    for i in range(len(x) - 1):\n",
    "        k1 = f(x[i], y[i]) * h\n",
    "        k2 = f(x[i] + h / 2, y[i] + k1 / 2) * h\n",
    "        k3 = f(x[i] + h / 2, y[i] + k2 / 2) * h\n",
    "        k4 = f(x[i] + h, y[i] + k3) * h\n",
    "        y[i + 1] += y[i] - (k1 + 2 * k2 + 2 * k3 + k4)/ 6\n",
    "        \n",
    "    return y \n",
    "\n",
    "def adams(x, y, h, n):\n",
    "    '''\n",
    "    Метод Адамса\n",
    "    '''\n",
    "    qn = np.zeros(n)\n",
    "    qn[:4] += h * f(x[:4], y[:4])\n",
    "    for i in range(3, len(x) - 1):\n",
    "        dq = np.diff(qn)\n",
    "        ddq = np.diff(dq)\n",
    "        dddq = np.diff(ddq**2)\n",
    "        y[i + 1] += y[i] - qn[i] + dq[i - 1] / 2 + 5 * ddq[i - 2] / 12 + 3 * dddq[i - 3] / 8\n",
    "        qn[i + 1] = h * f(x[i + 1], y[i + 1])\n",
    "    return y\n"
   ]
  },
  {
   "cell_type": "code",
   "execution_count": 64,
   "metadata": {},
   "outputs": [
    {
     "data": {
      "text/plain": [
       "array([0.5       , 0.50108353, 0.50033647, 0.49802523, 0.49422617,\n",
       "       0.48926426, 0.48324864, 0.47630743, 0.46853381, 0.46001033,\n",
       "       0.45080638])"
      ]
     },
     "execution_count": 64,
     "metadata": {},
     "output_type": "execute_result"
    }
   ],
   "source": [
    "#начальные условия\n",
    "x = [1, 2]\n",
    "y0 = 0.5\n",
    "d = x[0] - x[1]\n",
    "\n",
    "eps = 0.0001\n",
    "\n",
    "n = find_step(d, eps)\n",
    "h = d / n\n",
    "\n",
    "xn = np.linspace(x[0], x[1], n)\n",
    "yn = np.zeros(n)\n",
    "yn[0] = y0\n",
    "\n",
    "analytical = analytical_solve(xn)\n",
    "RK(xn[:4], yn[:4], h)\n",
    "adams(xn, yn, h, n)\n",
    "\n"
   ]
  },
  {
   "cell_type": "code",
   "execution_count": 65,
   "metadata": {},
   "outputs": [
    {
     "data": {
      "text/html": [
       "<div>\n",
       "<style scoped>\n",
       "    .dataframe tbody tr th:only-of-type {\n",
       "        vertical-align: middle;\n",
       "    }\n",
       "\n",
       "    .dataframe tbody tr th {\n",
       "        vertical-align: top;\n",
       "    }\n",
       "\n",
       "    .dataframe thead th {\n",
       "        text-align: right;\n",
       "    }\n",
       "</style>\n",
       "<table border=\"1\" class=\"dataframe\">\n",
       "  <thead>\n",
       "    <tr style=\"text-align: right;\">\n",
       "      <th></th>\n",
       "      <th>0</th>\n",
       "      <th>1</th>\n",
       "      <th>2</th>\n",
       "      <th>3</th>\n",
       "      <th>4</th>\n",
       "      <th>5</th>\n",
       "      <th>6</th>\n",
       "      <th>7</th>\n",
       "      <th>8</th>\n",
       "      <th>9</th>\n",
       "      <th>10</th>\n",
       "    </tr>\n",
       "  </thead>\n",
       "  <tbody>\n",
       "    <tr>\n",
       "      <th>x</th>\n",
       "      <td>1.000000</td>\n",
       "      <td>1.100000</td>\n",
       "      <td>1.200000</td>\n",
       "      <td>1.300000</td>\n",
       "      <td>1.400000</td>\n",
       "      <td>1.500000</td>\n",
       "      <td>1.600000</td>\n",
       "      <td>1.700000</td>\n",
       "      <td>1.800000</td>\n",
       "      <td>1.900000</td>\n",
       "      <td>2.000000</td>\n",
       "    </tr>\n",
       "    <tr>\n",
       "      <th>Analytical solve</th>\n",
       "      <td>0.500000</td>\n",
       "      <td>0.498809</td>\n",
       "      <td>0.495445</td>\n",
       "      <td>0.490175</td>\n",
       "      <td>0.483216</td>\n",
       "      <td>0.474745</td>\n",
       "      <td>0.464911</td>\n",
       "      <td>0.453840</td>\n",
       "      <td>0.441641</td>\n",
       "      <td>0.428405</td>\n",
       "      <td>0.414214</td>\n",
       "    </tr>\n",
       "    <tr>\n",
       "      <th>Numeric solve</th>\n",
       "      <td>0.500000</td>\n",
       "      <td>0.501084</td>\n",
       "      <td>0.500336</td>\n",
       "      <td>0.498025</td>\n",
       "      <td>0.494226</td>\n",
       "      <td>0.489264</td>\n",
       "      <td>0.483249</td>\n",
       "      <td>0.476307</td>\n",
       "      <td>0.468534</td>\n",
       "      <td>0.460010</td>\n",
       "      <td>0.450806</td>\n",
       "    </tr>\n",
       "    <tr>\n",
       "      <th>Error</th>\n",
       "      <td>0.000000</td>\n",
       "      <td>0.002275</td>\n",
       "      <td>0.004891</td>\n",
       "      <td>0.007850</td>\n",
       "      <td>0.011010</td>\n",
       "      <td>0.014519</td>\n",
       "      <td>0.018338</td>\n",
       "      <td>0.022467</td>\n",
       "      <td>0.026893</td>\n",
       "      <td>0.031605</td>\n",
       "      <td>0.036593</td>\n",
       "    </tr>\n",
       "    <tr>\n",
       "      <th>Max error</th>\n",
       "      <td>0.036593</td>\n",
       "      <td>0.036593</td>\n",
       "      <td>0.036593</td>\n",
       "      <td>0.036593</td>\n",
       "      <td>0.036593</td>\n",
       "      <td>0.036593</td>\n",
       "      <td>0.036593</td>\n",
       "      <td>0.036593</td>\n",
       "      <td>0.036593</td>\n",
       "      <td>0.036593</td>\n",
       "      <td>0.036593</td>\n",
       "    </tr>\n",
       "  </tbody>\n",
       "</table>\n",
       "</div>"
      ],
      "text/plain": [
       "                        0         1         2         3         4         5   \\\n",
       "x                 1.000000  1.100000  1.200000  1.300000  1.400000  1.500000   \n",
       "Analytical solve  0.500000  0.498809  0.495445  0.490175  0.483216  0.474745   \n",
       "Numeric solve     0.500000  0.501084  0.500336  0.498025  0.494226  0.489264   \n",
       "Error             0.000000  0.002275  0.004891  0.007850  0.011010  0.014519   \n",
       "Max error         0.036593  0.036593  0.036593  0.036593  0.036593  0.036593   \n",
       "\n",
       "                        6         7         8         9         10  \n",
       "x                 1.600000  1.700000  1.800000  1.900000  2.000000  \n",
       "Analytical solve  0.464911  0.453840  0.441641  0.428405  0.414214  \n",
       "Numeric solve     0.483249  0.476307  0.468534  0.460010  0.450806  \n",
       "Error             0.018338  0.022467  0.026893  0.031605  0.036593  \n",
       "Max error         0.036593  0.036593  0.036593  0.036593  0.036593  "
      ]
     },
     "execution_count": 65,
     "metadata": {},
     "output_type": "execute_result"
    }
   ],
   "source": [
    "#красивый вывод\n",
    "dat = {\n",
    "    'x' : xn,\n",
    "    'Analytical solve' : analytical,\n",
    "    'Numeric solve' : yn,\n",
    "    'Error' : np.abs(analytical - yn),\n",
    "    'Max error' : np.max(np.abs(analytical - yn))\n",
    "}\n",
    "df = pd.DataFrame(data=dat)\n",
    "df.transpose()"
   ]
  },
  {
   "cell_type": "code",
   "execution_count": 66,
   "metadata": {},
   "outputs": [
    {
     "data": {
      "image/png": "[encoded data removed]",
      "text/plain": [
       "<Figure size 576x432 with 1 Axes>"
      ]
     },
     "metadata": {},
     "output_type": "display_data"
    }
   ],
   "source": [
    "#графики\n",
    "fig, ax = plt.subplots(figsize=(8, 6))\n",
    "fig.set_facecolor('white')\n",
    "        \n",
    "plt.plot(xn, yn, '^-', label='numerical')\n",
    "plt.plot(xn, analytical, 'o-', label='analytical')\n",
    "\n",
    "plt.ylabel('$y$')\n",
    "plt.xlabel('$x$')\n",
    "plt.legend()\n",
    "plt.grid(True)\n",
    "\n",
    "    \n",
    "plt.show()"
   ]
  }
 ],
 "metadata": {
  "interpreter": {
   "hash": "e7370f93d1d0cde622a1f8e1c04877d8463912d04d973331ad4851f04de6915a"
  },
  "kernelspec": {
   "display_name": "Python 3.10.4 64-bit",
   "language": "python",
   "name": "python3"
  },
  "language_info": {
   "codemirror_mode": {
    "name": "ipython",
    "version": 3
   },
   "file_extension": ".py",
   "mimetype": "text/x-python",
   "name": "python",
   "nbconvert_exporter": "python",
   "pygments_lexer": "ipython3",
   "version": "3.10.4"
  },
  "orig_nbformat": 4
 },
 "nbformat": 4,
 "nbformat_minor": 2
}
