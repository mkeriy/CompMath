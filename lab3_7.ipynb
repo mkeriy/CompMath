{
 "cells": [
  {
   "cell_type": "markdown",
   "metadata": {},
   "source": [
    "Задание: Методом Рунге-Кутты 3 порядка точности решить: \n",
    "$$2xyy_{x}^{'} - y^2 + 5x = 0, y(1) = 1$$\n",
    "$$x \\in (1,2); \\varepsilon = 10^{-4}$$\n"
   ]
  },
  {
   "cell_type": "code",
   "execution_count": 28,
   "metadata": {},
   "outputs": [],
   "source": [
    "def func(x, y):\n",
    "    return y/(2*x) - 5/(2 * y)\n",
    "\n",
    "X_0 = 1.0\n",
    "X_N = 1.2\n",
    "Y_0 = 1.0\n",
    "N = 10\n",
    "N1 = 1000000"
   ]
  },
  {
   "cell_type": "markdown",
   "metadata": {},
   "source": [
    "Метод Хойна"
   ]
  },
  {
   "cell_type": "code",
   "execution_count": 29,
   "metadata": {},
   "outputs": [],
   "source": [
    "def Hoins_method(N, x0 = X_0, xn = X_N, y0 = Y_0): \n",
    "    y_h = []\n",
    "    x_h = []\n",
    "    y_i = y0\n",
    "    x_i = x0\n",
    "    h = (xn - x0) / N\n",
    "    while x_i - xn < 0.00000001: \n",
    "        x_h.append(x_i)\n",
    "        y_h.append(y_i)\n",
    "        f1 = func(x_i, y_i)\n",
    "        f2 = func(x_i + h/3, y_i + h * f1 / 3)\n",
    "        f3 = func(x_i + 2*h/3, y_i + h * 2 * f2/3)\n",
    "        x_i += h\n",
    "        y_i += h * (f1 + 3*f3) / 4\n",
    "    return x_h, y_h"
   ]
  },
  {
   "cell_type": "markdown",
   "metadata": {},
   "source": [
    "Метод 2"
   ]
  },
  {
   "cell_type": "code",
   "execution_count": 30,
   "metadata": {},
   "outputs": [],
   "source": [
    "def b_method(N, x0 = X_0, xn = X_N, y0 = Y_0): \n",
    "    y_h = []\n",
    "    x_h = []\n",
    "    y_i = y0\n",
    "    x_i = x0\n",
    "    h = (xn - x0) / N\n",
    "    while x_i - xn < 0.00000001: \n",
    "        x_h.append(x_i)\n",
    "        y_h.append(y_i)\n",
    "        f1 = func(x_i, y_i)\n",
    "        f2 = func(x_i + 2*h/3, y_i + h * 2 * f1 / 3)\n",
    "        f3 = func(x_i + 2*h/3, y_i - h * f1/ 3 + h * f2)\n",
    "        x_i += h\n",
    "        y_i += h * (f1 + 2 * f2 + f3) / 4\n",
    "    return x_h, y_h"
   ]
  },
  {
   "cell_type": "markdown",
   "metadata": {},
   "source": [
    "Метод 3"
   ]
  },
  {
   "cell_type": "code",
   "execution_count": 31,
   "metadata": {},
   "outputs": [],
   "source": [
    "def c_method(N, x0 = X_0, xn = X_N, y0 = Y_0): \n",
    "    y_h = []\n",
    "    x_h = []\n",
    "    y_i = y0\n",
    "    x_i = x0\n",
    "    h = (xn - x0) / N\n",
    "    while x_i - xn < 0.00000001: \n",
    "        x_h.append(x_i)\n",
    "        y_h.append(y_i)\n",
    "        f1 = func(x_i, y_i)\n",
    "        f2 = func(x_i + h/2, y_i + h * f1 / 2)\n",
    "        f3 = func(x_i + h, y_i - h * f1 + 2 * h * f2)\n",
    "        x_i += h\n",
    "        y_i += h * (f1 + 4 * f2 + f3) / 6\n",
    "    return x_h, y_h"
   ]
  },
  {
   "cell_type": "code",
   "execution_count": 32,
   "metadata": {},
   "outputs": [
    {
     "name": "stdout",
     "output_type": "stream",
     "text": [
      "Hoin's method\n",
      "x: 1.0 1.02 1.04 1.06 1.08 1.1 1.12 1.1400000000000001 1.1600000000000001 1.1800000000000002 1.2000000000000002\n",
      "y_N: 1.0 0.9586491491213524 0.9143609725474081 0.866707190208444 0.8151202376175891 0.7588218851956909 0.6966961544374198 0.6270419420848317 0.5470278927154385 0.45124509857964895 0.32641047451188343\n",
      "y_N1: 1.0 0.9586483196613813 0.9143589511801566 0.8667034019453407 0.8151137208181839 0.7588109191873089 0.6966773731670829 0.6270078981051256 0.5469588378636744 0.45107074055613017 0.3256849079096072\n",
      "11 1000001\n",
      "0.0007255666022762397\n"
     ]
    }
   ],
   "source": [
    "xh, yh = Hoins_method(N)\n",
    "xh1, yh_1 = Hoins_method(N1)\n",
    "\n",
    "yh_f = yh_1[::int(N1/10)]\n",
    "xh_f = xh[::(int(N/10))]\n",
    "yh_fi = yh[::(int(N/10))]\n",
    "\n",
    "print(\"Hoin's method\")\n",
    "print('x:', *xh_f, sep=' ')\n",
    "print('y_N:', *yh_fi, sep=' ')\n",
    "print('y_N1:', *yh_f, sep=' ')\n",
    "\n",
    "print(len(yh_fi), len(yh_1))\n",
    "\n",
    "for i in range(len(yh_fi)):\n",
    "    yh_fi[i] -= yh_f[i]\n",
    "print(max(yh_fi))\n",
    "\n"
   ]
  },
  {
   "cell_type": "code",
   "execution_count": 33,
   "metadata": {},
   "outputs": [
    {
     "name": "stdout",
     "output_type": "stream",
     "text": [
      "Second method\n",
      "x: 1.0 1.02 1.04 1.06 1.08 1.1 1.12 1.1400000000000001 1.1600000000000001 1.1800000000000002 1.2000000000000002\n",
      "y_N: 1.0 0.9586488716828516 0.9143602707729204 0.8667058261170021 0.8151178047149702 0.7588176404204489 0.6966886117467194 0.6270277354738077 0.5469978598460583 0.4511655931739017 0.32605975486721617\n",
      "y_N1: 1.0 0.9586483196613813 0.9143589511801566 0.8667034019453407 0.8151137208181839 0.7588109191873089 0.6966773731670829 0.6270078981051256 0.5469588378636744 0.45107074055613017 0.32568490790960725\n",
      "11 1000001\n",
      "0.00037484695760892084\n"
     ]
    }
   ],
   "source": [
    "xh, yh = b_method(N)\n",
    "xh1, yh_1 = b_method(N1)\n",
    "\n",
    "yh_f = yh_1[::int(N1/10)]\n",
    "xh_f = xh[::(int(N/10))]\n",
    "yh_fi = yh[::(int(N/10))]\n",
    "\n",
    "print(\"Second method\")\n",
    "print('x:', *xh_f, sep=' ')\n",
    "print('y_N:', *yh_fi, sep=' ')\n",
    "print('y_N1:', *yh_f, sep=' ')\n",
    "\n",
    "print(len(yh_fi), len(yh_1))\n",
    "\n",
    "for i in range(len(yh_fi)):\n",
    "    yh_fi[i] -= yh_f[i]\n",
    "print(max(yh_fi))\n",
    "\n"
   ]
  },
  {
   "cell_type": "code",
   "execution_count": 34,
   "metadata": {},
   "outputs": [
    {
     "name": "stdout",
     "output_type": "stream",
     "text": [
      "Third method\n",
      "x: 1.0 1.02 1.04 1.06 1.08 1.1 1.12 1.1400000000000001 1.1600000000000001 1.1800000000000002 1.2000000000000002\n",
      "y_N: 1.0 0.9586482505337902 0.9143587389926543 0.8667029171433462 0.8151127252494433 0.7588089458120684 0.6966734209099148 0.6269995319773927 0.5469388911830042 0.45101024018214786 0.32536136096342794\n",
      "y_N1: 1.0 0.9586483196613813 0.9143589511801566 0.8667034019453407 0.8151137208181839 0.7588109191873089 0.6966773731670829 0.6270078981051256 0.5469588378636744 0.45107074055613017 0.32568490790960725\n",
      "11 1000001\n",
      "0.00032354694617930946\n"
     ]
    }
   ],
   "source": [
    "xh, yh = c_method(N)\n",
    "xh1, yh_1 = c_method(N1)\n",
    "\n",
    "yh_f = yh_1[::int(N1/10)]\n",
    "xh_f = xh[::(int(N/10))]\n",
    "yh_fi = yh[::(int(N/10))]\n",
    "\n",
    "print(\"Third method\")\n",
    "print('x:', *xh_f, sep=' ')\n",
    "print('y_N:', *yh_fi, sep=' ')\n",
    "print('y_N1:', *yh_f, sep=' ')\n",
    "\n",
    "print(len(yh_fi), len(yh_1))\n",
    "\n",
    "for i in range(len(yh_fi)):\n",
    "    yh_f[i] -= yh_fi[i]\n",
    "print(max(yh_f))"
   ]
  }
 ],
 "metadata": {
  "interpreter": {
   "hash": "1b4b9426b141da82d115195337a77d8080cd9f1dee7070e14fdede2b1303e61d"
  },
  "kernelspec": {
   "display_name": "Python 3.8.5 64-bit ('base': conda)",
   "language": "python",
   "name": "python3"
  },
  "language_info": {
   "codemirror_mode": {
    "name": "ipython",
    "version": 3
   },
   "file_extension": ".py",
   "mimetype": "text/x-python",
   "name": "python",
   "nbconvert_exporter": "python",
   "pygments_lexer": "ipython3",
   "version": "3.8.5"
  },
  "orig_nbformat": 4
 },
 "nbformat": 4,
 "nbformat_minor": 2
}
