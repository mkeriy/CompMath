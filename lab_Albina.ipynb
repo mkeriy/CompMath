{
 "cells": [
  {
   "cell_type": "markdown",
   "metadata": {},
   "source": [
    "Используя предложенные методы, вычислить значение интеграла\n",
    "$$I = \\int_{0}^{1} \\frac{arctg(x)}{x} dx$$\n",
    "Принять $\\varepsilon = 10^{-4}$ за допустимый уровень погрешности.\n",
    "Использовать 4 метода:\n",
    "1. Метод средних прямоугольников\n",
    "2. Метод правых/левых прямоугольников\n",
    "3. Метод трапеций\n",
    "4. Метод Симпсона"
   ]
  },
  {
   "cell_type": "code",
   "execution_count": 3,
   "metadata": {},
   "outputs": [],
   "source": [
    "import numpy as np\n"
   ]
  },
  {
   "cell_type": "code",
   "execution_count": 4,
   "metadata": {},
   "outputs": [
    {
     "name": "stdout",
     "output_type": "stream",
     "text": [
      "[0.  0.1 0.2 0.3 0.4 0.5 0.6 0.7 0.8 0.9 1. ]\n"
     ]
    }
   ],
   "source": [
    "def f(x):\n",
    "    return np.arctg(x) / x**0.5\n",
    "\n",
    "epsilon = 10**-4\n",
    "\n",
    "x = np.linspace(0.0, 1.0, 11)\n",
    "print(x)"
   ]
  },
  {
   "cell_type": "markdown",
   "metadata": {},
   "source": [
    "Метод средних прямоугольников"
   ]
  },
  {
   "cell_type": "code",
   "execution_count": null,
   "metadata": {},
   "outputs": [],
   "source": []
  }
 ],
 "metadata": {
  "interpreter": {
   "hash": "1b4b9426b141da82d115195337a77d8080cd9f1dee7070e14fdede2b1303e61d"
  },
  "kernelspec": {
   "display_name": "Python 3.8.5 ('base')",
   "language": "python",
   "name": "python3"
  },
  "language_info": {
   "codemirror_mode": {
    "name": "ipython",
    "version": 3
   },
   "file_extension": ".py",
   "mimetype": "text/x-python",
   "name": "python",
   "nbconvert_exporter": "python",
   "pygments_lexer": "ipython3",
   "version": "3.8.5"
  },
  "orig_nbformat": 4
 },
 "nbformat": 4,
 "nbformat_minor": 2
}
