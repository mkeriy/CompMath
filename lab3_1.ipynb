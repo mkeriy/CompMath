{
 "cells": [
  {
   "cell_type": "markdown",
   "metadata": {},
   "source": [
    "Задание: Методом Рунге-Кутты 4 порядка точности решить: \n",
    "$$2x^{2} y y_{x}^{'} + y^2 = 2x^3 + x^2, y(1) = 1 $$\n",
    "$$x \\in (1,2); \\varepsilon = 10^{-4}$$"
   ]
  },
  {
   "cell_type": "code",
   "execution_count": 154,
   "metadata": {},
   "outputs": [],
   "source": [
    "def func(x, y):\n",
    "    return x/y + 1/(2*y) - y/(2*x**2)\n",
    "\n",
    "X_0 = 1.0\n",
    "X_N = 2.0\n",
    "Y_0 = 0.02\n",
    "N = 163840\n",
    "N1 = 1000000\n",
    " "
   ]
  },
  {
   "cell_type": "markdown",
   "metadata": {},
   "source": [
    "Метод Рунге-Кутты 4 порядка точности"
   ]
  },
  {
   "cell_type": "code",
   "execution_count": 155,
   "metadata": {},
   "outputs": [],
   "source": [
    "def m_RK_four(N, x0 = X_0, xn = X_N, y0 = Y_0):    \n",
    "    y_h = []\n",
    "    x_h = []\n",
    "    y_i = y0\n",
    "    x_i = x0\n",
    "    h = (xn - x0) / N\n",
    "    while x_i - xn < 0.0000001:\n",
    "        x_h.append(x_i)\n",
    "        y_h.append(y_i)\n",
    "        f1 = func(x_i, y_i)\n",
    "        f2 = func(x_i + h/2, y_i + h * f1 / 2)\n",
    "        f3 = func(x_i + h/2, y_i + h * f2/2)\n",
    "        f4 = func(x_i + h, y_i + h * f3)\n",
    "        x_i += h\n",
    "        y_i += h * (f1 + 2 * f2 + 2 * f3  + f4) / 6\n",
    "    return x_h, y_h\n"
   ]
  },
  {
   "cell_type": "code",
   "execution_count": 156,
   "metadata": {},
   "outputs": [
    {
     "name": "stdout",
     "output_type": "stream",
     "text": [
      "x: 1.0 1.0999999999985448 1.1999999999970896 1.2999999999956344 1.3999999999941792 1.499999999992724 1.5999999999912689 1.6999999999898137 1.7999999999883585 1.8999999999869033 1.999999999985448\n",
      "y: 0.02 0.5452197025097332 0.7706210922361949 0.9467813428897686 1.09946500528192 1.238448748211384 1.368570654703049 1.4925765831780808 1.6121650299252404 1.7284516819059241 1.8422030161013645\n",
      "x_10^6: 0.02 0.5452197025083753 0.7706210922336435 0.9467813428854105 1.09946500527536 1.2384487482023576 1.3685706546913416 1.4925765831635205 1.6121650299077384 1.7284516818853135 1.8422030160776228\n",
      "163841 1000001\n",
      "2.3741675292399123e-11\n"
     ]
    }
   ],
   "source": [
    "xh, yh = m_RK_four(N)\n",
    "xh1, yh_1 = m_RK_four(N1)\n",
    "\n",
    "\n",
    "yh_f = yh_1[::int(N1/10)]\n",
    "xh_f = xh[::(int(N/10))]\n",
    "yh_fi = yh[::(int(N/10))]\n",
    "\n",
    "print('x:', *xh_f, sep=' ')\n",
    "print('y:', *yh_fi, sep=' ')\n",
    "print('x_10^6:', *yh_f, sep=' ')\n",
    "\n",
    "\n",
    "print(len(yh), len(yh_1))\n",
    "\n",
    "for i in range(len(yh_fi)):\n",
    "    yh_fi[i] = abs(yh_fi[i] - yh_f[i])\n",
    "print(max(yh_fi))\n"
   ]
  },
  {
   "cell_type": "code",
   "execution_count": null,
   "metadata": {},
   "outputs": [],
   "source": []
  }
 ],
 "metadata": {
  "interpreter": {
   "hash": "1b4b9426b141da82d115195337a77d8080cd9f1dee7070e14fdede2b1303e61d"
  },
  "kernelspec": {
   "display_name": "Python 3.8.5 64-bit ('base': conda)",
   "language": "python",
   "name": "python3"
  },
  "language_info": {
   "codemirror_mode": {
    "name": "ipython",
    "version": 3
   },
   "file_extension": ".py",
   "mimetype": "text/x-python",
   "name": "python",
   "nbconvert_exporter": "python",
   "pygments_lexer": "ipython3",
   "version": "3.8.5"
  },
  "orig_nbformat": 4
 },
 "nbformat": 4,
 "nbformat_minor": 2
}
