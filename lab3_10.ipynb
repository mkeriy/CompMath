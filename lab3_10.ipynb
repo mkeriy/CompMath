{
 "cells": [
  {
   "cell_type": "markdown",
   "metadata": {},
   "source": [
    "Задание: Методом Рунге-Кутты 4 порядка точности решить: \n",
    "$$2x^{2} y_{x}^{'} - 2y^2 = 3xy + 2x, y(1) = 0.5 $$\n",
    "$$x \\in (1,2); \\varepsilon = 10^{-4}$$"
   ]
  },
  {
   "cell_type": "code",
   "execution_count": 14,
   "metadata": {},
   "outputs": [],
   "source": [
    "def func(x, y):\n",
    "    return (y/x)**2 + 3 * y/(2 * x) - 1/x\n",
    "\n",
    "X_0 = 1.0\n",
    "X_N = 2.0\n",
    "Y_0 = 0.5\n",
    "N = 10\n",
    "N1 = 1000000"
   ]
  },
  {
   "cell_type": "markdown",
   "metadata": {},
   "source": [
    "Метод Рунге-Кутты 4 порядка точности"
   ]
  },
  {
   "cell_type": "code",
   "execution_count": 15,
   "metadata": {},
   "outputs": [],
   "source": [
    "def m_RK_four(N, x0 = X_0, xn = X_N, y0 = Y_0):    \n",
    "    y_h = []\n",
    "    x_h = []\n",
    "    y_i = y0\n",
    "    x_i = x0\n",
    "    h = (xn - x0) / N\n",
    "    while x_i - xn < 0.0000001:\n",
    "        x_h.append(x_i)\n",
    "        y_h.append(y_i)\n",
    "        f1 = func(x_i, y_i)\n",
    "        f2 = func(x_i + h/2, y_i + h * f1 / 2)\n",
    "        f3 = func(x_i + h/2, y_i + h * f2/2)\n",
    "        f4 = func(x_i + h, y_i + h * f3)\n",
    "        x_i += h\n",
    "        y_i += h * (f1 + 2 * f2 + 2 * f3  + f4) / 6\n",
    "    return x_h, y_h"
   ]
  },
  {
   "cell_type": "code",
   "execution_count": 16,
   "metadata": {},
   "outputs": [
    {
     "name": "stdout",
     "output_type": "stream",
     "text": [
      "x: 1.0 1.1 1.2000000000000002 1.3000000000000003 1.4000000000000004 1.5000000000000004 1.6000000000000005 1.7000000000000006 1.8000000000000007 1.9000000000000008 2.000000000000001\n",
      "y_N: 0.5 0.49880947008852156 0.49544625874741244 0.4901770406849691 0.48321802100695543 0.47474737640339776 0.4649140098666548 0.4538438724621294 0.4416446309333285 0.42840918134985473 0.4142183394757512\n",
      "y_N1: 0.5 0.4988088481702361 0.49544511501062083 0.4901754250996549 0.48321595662067407 0.47474487139253463 0.46491106406842647 0.45384048104164154 0.4416407865009143 0.42840487520987025 0.41421356237363427\n",
      "11 1000001\n",
      "4.777102116937382e-06\n"
     ]
    }
   ],
   "source": [
    "xh, yh = m_RK_four(N)\n",
    "xh1, yh_1 = m_RK_four(N1)\n",
    "\n",
    "yh_f = yh_1[::int(N1/10)]\n",
    "xh_f = xh[::(int(N/10))]\n",
    "yh_fi = yh[::(int(N/10))]\n",
    "\n",
    "print('x:', *xh_f, sep=' ')\n",
    "print('y_N:', *yh_fi, sep=' ')\n",
    "print('y_N1:', *yh_f, sep=' ')\n",
    "\n",
    "print(len(yh_fi), len(yh_1))\n",
    "\n",
    "for i in range(len(yh_fi)):\n",
    "    yh_fi[i] -= yh_f[i]\n",
    "print(max(yh_fi))"
   ]
  },
  {
   "cell_type": "code",
   "execution_count": null,
   "metadata": {},
   "outputs": [],
   "source": []
  }
 ],
 "metadata": {
  "interpreter": {
   "hash": "1b4b9426b141da82d115195337a77d8080cd9f1dee7070e14fdede2b1303e61d"
  },
  "kernelspec": {
   "display_name": "Python 3.8.5 64-bit ('base': conda)",
   "language": "python",
   "name": "python3"
  },
  "language_info": {
   "codemirror_mode": {
    "name": "ipython",
    "version": 3
   },
   "file_extension": ".py",
   "mimetype": "text/x-python",
   "name": "python",
   "nbconvert_exporter": "python",
   "pygments_lexer": "ipython3",
   "version": "3.8.5"
  },
  "orig_nbformat": 4
 },
 "nbformat": 4,
 "nbformat_minor": 2
}
