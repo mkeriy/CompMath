{
 "cells": [
  {
   "cell_type": "code",
   "execution_count": 2,
   "metadata": {},
   "outputs": [
    {
     "name": "stdout",
     "output_type": "stream",
     "text": [
      " lsoda--  at t (=r1) and step size h (=r2), the    \u0000\u0000\n",
      "       corrector convergence failed repeatedly     \u0000\u0000\n",
      "       or with abs(h) = hmin   \u0000l\n",
      "      in above,  r1 =  0.8138030101335D-04   r2 =  0.2899842950380D+00\n"
     ]
    },
    {
     "name": "stderr",
     "output_type": "stream",
     "text": [
      "/home/mkeriy/.local/lib/python3.10/site-packages/scipy/integrate/_odepack_py.py:247: ODEintWarning: Repeated convergence failures (perhaps bad Jacobian or tolerances). Run with full_output = 1 to get quantitative information.\n",
      "  warnings.warn(warning_msg, ODEintWarning)\n"
     ]
    },
    {
     "data": {
      "image/png": "[encoded data removed]",
      "text/plain": [
       "<Figure size 432x288 with 1 Axes>"
      ]
     },
     "metadata": {},
     "output_type": "display_data"
    }
   ],
   "source": [
    "import numpy as np\n",
    "import matplotlib.pyplot as plt\n",
    "from scipy.integrate import odeint\n",
    "\n",
    "#constants\n",
    "muT = 0.005\n",
    "muTi = 0.25\n",
    "kS = 0.0005\n",
    "kV = 0.0062\n",
    "lambda1 = 0.025\n",
    "lambda2 = 0.25\n",
    "lambda3 = 0.8\n",
    "Gs = 41.2\n",
    "C = 47.0\n",
    "C_i = 47.0\n",
    "B = 2.0\n",
    "Bs = 13.8\n",
    "S1 = 4.0\n",
    "S2 = 2.8\n",
    "\n",
    "         \n",
    "# функция правых частей системы ОДУ\n",
    "def f(y, t):  #  имеется дополнительный аргумент k\n",
    "         T, Ts, V  = y\n",
    "         S = S1 - S2 * V / (Bs - V)\n",
    "         lam1 = lambda1 / (C + V)\n",
    "         lam2 = lambda2 / (C_i + V)\n",
    "         lam3 = lambda3 / (C_i + V)\n",
    "         G = Gs * V / (B + V)\n",
    "         return np.array([S - muT * T + lam1 * T * V - kS * V * T, kS * V * T - muTi * Ts - lam2 * Ts * V, lam3 * Ts * V - kV * T * V + G]) \n",
    "\n",
    "\n",
    "y0 = np.array([600, 0, 10])\n",
    "t = np.linspace(0, 3500, 7)\n",
    "res = odeint(f, y0, t, hmin=500)\n",
    "\n",
    "fig, ax = plt.subplots()\n",
    "fig.set_facecolor('white')\n",
    "        \n",
    "plt.plot(t, res[:,0],linewidth=3)\n",
    "plt.plot(t, res[:,2],linewidth=3)\n",
    "\n",
    "plt.grid(True)\n",
    "\n",
    "    \n",
    "plt.show()\n"
   ]
  }
 ],
 "metadata": {
  "interpreter": {
   "hash": "e7370f93d1d0cde622a1f8e1c04877d8463912d04d973331ad4851f04de6915a"
  },
  "kernelspec": {
   "display_name": "Python 3.10.2 64-bit",
   "language": "python",
   "name": "python3"
  },
  "language_info": {
   "codemirror_mode": {
    "name": "ipython",
    "version": 3
   },
   "file_extension": ".py",
   "mimetype": "text/x-python",
   "name": "python",
   "nbconvert_exporter": "python",
   "pygments_lexer": "ipython3",
   "version": "3.10.2"
  },
  "orig_nbformat": 4
 },
 "nbformat": 4,
 "nbformat_minor": 2
}
