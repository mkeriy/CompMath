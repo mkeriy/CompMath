{
 "cells": [
  {
   "cell_type": "code",
   "execution_count": 1,
   "source": [
    "import math"
   ],
   "outputs": [],
   "metadata": {}
  },
  {
   "cell_type": "code",
   "execution_count": 2,
   "source": [
    "g0, rho0, U0, P0, g3, rho3, U3, P3 = 7/5, 11.37, -2.28e4, 1.17928e9, 7/5, 7.9, 2.72e4, 3.04e+9\n"
   ],
   "outputs": [],
   "metadata": {}
  },
  {
   "cell_type": "code",
   "execution_count": 3,
   "source": [
    "C3 = (g3 * P3 / rho3)**0.5\n",
    "\n",
    "C0 = (g0 * P0 / rho0)**0.5\n",
    "\n",
    "G = P3 / P0\n",
    "\n",
    "a_0 = (g0 + 1) / (g0 - 1)\n",
    "\n",
    "a_3 = (g3 + 1) / (g3 - 1)\n",
    "\n",
    "e3 = 2 * C3**2 / (g3 * (g3 - 1) * (U3 - U0)**2)\n",
    "\n",
    "e0 = 2 * C0**2 / (g0 * (g0 - 1) * (U3 - U0)**2)\n"
   ],
   "outputs": [],
   "metadata": {}
  },
  {
   "cell_type": "code",
   "execution_count": 4,
   "source": [
    "a0 = G**4 * ((e3 - e0)**2 + 1 - 2 * (e3 + e0))\n",
    "\n",
    "a1 = 2.0 * G**3 * (e3**2 * (a_0 * G - 2.0) - e0 * e3 * (a_0 * G - 2.0 + a_3 - 2 * G) + e0**2 *(a_3 - 2 * G) + (a_3 + a_0 * G) - e3 * (2 * a_0 * G + a_3 - 2.0) - e0*(2 * a_3 + a_0 * G - 2 * G))\n",
    "\n",
    "a2 = G**2 * (e3**2*(a_0**2 * G**2 - 8 * a_0 * G + 6) - 2 * e0 * e3 * (a_0 * a_3 * G - 2 * (G + 1) * (a_3 + a_0 * G) + G**2 + 4 * G + 1) + e0**2 * (a_3**2 - 8 * a_3 *G + 6 * G**2) + (a_3**2 + 4 * a_0 * a_3 * G + a_0**2 * G**2) - 2 * e3 * ((a_0**2*G + 2 * a_0 * a_3) * G - 2 * (2 * a_0 * G + a_3) + 1) - 2 * e0 * (a_3 * (2 * a_0 * G + a_3) - 2 * G * (2 * a_3 + a_0 * G) + G**2))\n",
    "\n",
    "a3 = -2 * G * (2 * e3**2 * (a_0**2 * G**2 - 3 * a_0 * G + 1) + e0*e3*((a_3 + a_0 * G) * (G**2 + 4 * G + 1) - 2 * a_0 * a_3 * G * (G + 1) - 2 * G * (G + 1)) + 2 * e0**2 * G * (G**2 - 3 * a_3 * G + a_3**2) - a_0* a_3 * G * (a_0 * G +a_3) + e3 * (a_0**2 * a_3 * G**2 - 2*G*(2* a_0 * a_3 + a_0**2 * G) + (2*a_0 * G + a_3)) + e0 * G * (a_0 * a_3**2 - 2* a_3 * (a_3 + a_0 * 2* G) + 2 * a_3 * G + a_0 * G**2))\n",
    "\n",
    "a4 = e3**2 * (6 * a_0**2 * G**2 - 8* a_0 * G +1) - 2 * e0 * e3 * G * (a_0 * a_3 * (G**2 + 4 * G + 1) - 2 * (G + 1) * (a_3 + a_0 * G) + G) + e0**2 *G**2 * (6 * a_3**2 - 8 * a_3 * G + G**2) + a_0**2 * a_3 ** 2 * G**2 - 2 * a_0 * G * e3 * (a_0 * G - 2 * a_0 * a_3 * G + 2* a_3) - 2 * a_3 * G**2 * e0 * (a_3 + 2 * a_0 * G - 2 * a_0 * a_3) \n",
    "\n",
    "a5 = 2 * ((a_0 * e3 - a_3 * G * e0)*(e3 * (1 - 2 * a_0 * G) - e0 * G * (G - 2 * a_3)) - a_0 * a_3 * G * (a_0 * e3 + a_3 * G * e0))\n",
    "\n",
    "a6 = (a_0 * e3 - a_3 * G * e0)**2\n",
    "\n",
    "coefs = [a0, a1, a2, a3, a4, a5, a6]\n",
    "print(*coefs)"
   ],
   "outputs": [
    {
     "output_type": "stream",
     "name": "stdout",
     "text": [
      "-28.176784248159827 -147.96830984342134 1012.2080473147246 7296.683810996609 13355.218303070611 -1503.3061785029313 1.9860651780861551\n"
     ]
    }
   ],
   "metadata": {}
  },
  {
   "cell_type": "code",
   "execution_count": 5,
   "source": [
    "A = max(coefs[:7])\n",
    "B = max(coefs[1:])"
   ],
   "outputs": [],
   "metadata": {}
  },
  {
   "cell_type": "code",
   "execution_count": 6,
   "source": [
    "low_bor = round(abs(coefs[0]) / (abs(coefs[0]) + B), 7)\n",
    "upper_bor = round(1 + A / coefs[6], 7)"
   ],
   "outputs": [],
   "metadata": {}
  },
  {
   "cell_type": "code",
   "execution_count": 7,
   "source": [
    "def func(x):\n",
    "    t = 0\n",
    "    for i in range(7):\n",
    "        t += coefs[i] * x**i\n",
    "    return t"
   ],
   "outputs": [],
   "metadata": {}
  },
  {
   "cell_type": "code",
   "execution_count": 17,
   "source": [
    "delta = round((upper_bor - low_bor) / 100000, 7)\n",
    "\n",
    "pau = low_bor\n",
    "piu = low_bor + delta\n",
    "\n",
    "l = []\n",
    "\n",
    "while(upper_bor - piu > 1e-6):\n",
    "    if func(pau) < 0 < func(piu) or func(piu) < 0 < func(pau):\n",
    "        l.append([pau, piu])\n",
    "    pau = piu\n",
    "    piu += delta\n",
    "\n",
    "print(l)"
   ],
   "outputs": [
    {
     "output_type": "stream",
     "name": "stdout",
     "text": [
      "[[0.0021054, 0.6746513000000001], [9.417748000000001, 10.0902939], [747.87314620001, 748.54569210001]]\n"
     ]
    }
   ],
   "metadata": {}
  },
  {
   "cell_type": "code",
   "execution_count": 19,
   "source": [
    "roots = []\n",
    "for el in l:\n",
    "    mid = el[0] + (el[1] - el[0]) / 2.0\n",
    "    while(el[1] - el[0] > 1e-6):\n",
    "        mid = el[0] + (el[1] - el[0]) / 2.0\n",
    "        if func(mid)*func(el[0]) < 0.0:\n",
    "            el[1] = mid\n",
    "        else:\n",
    "            el[0] = mid    \n",
    "    roots.append(mid)   \n",
    "print(roots)    "
   ],
   "outputs": [
    {
     "output_type": "stream",
     "name": "stdout",
     "text": [
      "[0.14538834282679558, 9.520770908129265, 747.9295734254767]\n"
     ]
    }
   ],
   "metadata": {}
  },
  {
   "cell_type": "code",
   "execution_count": 25,
   "source": [
    "for el in roots:\n",
    "    P1 = el* P0\n",
    "    \n",
    "    U1 = U0 + (P1 - P0) / (rho0 * (C0**2 * ((g0 - 1.0) + (g0 + 1.0) * P1 / P0) / 2.0 / g0)**0.5);\n",
    "    D0 = U0 + P0 * (el - 1) / (rho0 * (U1 - U0))\n",
    "    \n",
    "    D3 = U3 + (P0 * el - P3) / (rho3 * (U1 - U3))\n",
    "    print(el, P1, U1, D0, D3, sep='\\n')"
   ],
   "outputs": [
    {
     "output_type": "stream",
     "name": "stdout",
     "text": [
      "0.14538834282679558\n",
      "171453564.9287835\n",
      "-37022.98802079167\n",
      "-16567.899665865632\n",
      "32853.85004450973\n",
      "9.520770908129265\n",
      "11227654716.53868\n",
      "2651.421400157011\n",
      "11923.485749668405\n",
      "-15018.818707568862\n",
      "747.9295734254767\n",
      "882018387349.1962\n",
      "231085.8695611126\n",
      "282338.91192202363\n",
      "572912.5952167934\n"
     ]
    }
   ],
   "metadata": {}
  }
 ],
 "metadata": {
  "orig_nbformat": 4,
  "language_info": {
   "name": "python",
   "version": "3.8.5",
   "mimetype": "text/x-python",
   "codemirror_mode": {
    "name": "ipython",
    "version": 3
   },
   "pygments_lexer": "ipython3",
   "nbconvert_exporter": "python",
   "file_extension": ".py"
  },
  "kernelspec": {
   "name": "python3",
   "display_name": "Python 3.8.5 64-bit ('base': conda)"
  },
  "interpreter": {
   "hash": "ecb2ddf60c863a67d459e5a8fa23cf79a88eb5c0abba825ee7243bbcad8b4312"
  }
 },
 "nbformat": 4,
 "nbformat_minor": 2
}