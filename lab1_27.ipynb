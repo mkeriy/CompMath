{
 "cells": [
  {
   "cell_type": "code",
   "execution_count": 42,
   "source": [
    "import math"
   ],
   "outputs": [],
   "metadata": {}
  },
  {
   "cell_type": "code",
   "execution_count": 43,
   "source": [
    "g0, rho0, U0, P0, g3, C3, U3, P3 = 7/5, 1.694e-4, 10e-3, 1.013e+6, 7/5, 3.6537e+4, 1.229e+4, 1.6768e+6\n"
   ],
   "outputs": [],
   "metadata": {}
  },
  {
   "cell_type": "code",
   "execution_count": 44,
   "source": [
    "alpha = (g0 + 1)/(g0 - 1)\n",
    "\n",
    "rho3 = round(g3 * P3 / C3**2, 6)\n",
    "\n",
    "n = 2 * g3 / (g3 - 1)\n",
    "\n",
    "mu = round((U3 - U0) * ((g0 - 1) * rho0 / (2 * P0))**0.5, 6)\n",
    "\n",
    "nu = round((g3 * (g0 - 1) * rho0 * P3 / (2 * P0 * rho3))**0.5 * 2 / (g3 - 1), 6)\n",
    "\n",
    "G = round(P3 / P0, 6)"
   ],
   "outputs": [],
   "metadata": {}
  },
  {
   "cell_type": "code",
   "execution_count": 52,
   "source": [
    "coefs = [0.0 for _ in range(int(2*n + 1))]\n",
    "\n",
    "coefs[0] = round(-(mu + nu)**2  + 1, 6)\n",
    "\n",
    "coefs[1] = round(2 * nu * (mu + nu), 6)\n",
    "\n",
    "coefs[2] = round(-nu**2, 6)\n",
    "\n",
    "coefs[int(n)] = round(-(2 + (mu + nu)**2 * alpha) * G, 6)\n",
    "\n",
    "coefs[int(n + 1)] = round(2 * alpha * nu * (mu + nu) * G, 6)\n",
    "\n",
    "coefs[int(n + 2)] = round(-alpha * nu**2 * G, 6)\n",
    "\n",
    "coefs[int(2 * n)] = round(G**2, 6)\n",
    "\n",
    "print(*coefs, sep=' ')"
   ],
   "outputs": [
    {
     "output_type": "stream",
     "name": "stdout",
     "text": [
      "-0.271092 2.38192 -1.11588 0.0 0.0 0.0 0.0 -15.934645 23.656477 -11.082565 0.0 0.0 0.0 0.0 2.739955\n"
     ]
    }
   ],
   "metadata": {}
  },
  {
   "cell_type": "code",
   "execution_count": 46,
   "source": [
    "A = max(coefs[:int(2*n)])\n",
    "B = max(coefs[1:])"
   ],
   "outputs": [],
   "metadata": {}
  },
  {
   "cell_type": "code",
   "execution_count": 47,
   "source": [
    "low_bor = round(abs(coefs[0]) / (abs(coefs[0]) + B), 7)\n",
    "upper_bor = round(1 + A / coefs[int(2 * n)], 7)"
   ],
   "outputs": [],
   "metadata": {}
  },
  {
   "cell_type": "code",
   "execution_count": 48,
   "source": [
    "def func(x):\n",
    "    t = 0\n",
    "    for i in range(int(2 * n + 1)):\n",
    "        t += coefs[i] * x**i\n",
    "    return t"
   ],
   "outputs": [],
   "metadata": {}
  },
  {
   "cell_type": "code",
   "execution_count": 49,
   "source": [
    "delta = round((upper_bor - low_bor) / 1000000, 7)\n",
    "\n",
    "pau = low_bor\n",
    "piu = low_bor + delta\n",
    "\n",
    "l = []\n",
    "\n",
    "while(upper_bor - piu > 1e-6):\n",
    "    if func(pau) < 0 < func(piu) or func(piu) < 0 < func(pau):\n",
    "        l.append([pau, piu])\n",
    "    pau = piu\n",
    "    piu += delta\n",
    "\n",
    "print(l)"
   ],
   "outputs": [
    {
     "output_type": "stream",
     "name": "stdout",
     "text": [
      "[[0.12062569999998368, 0.12063529999998368], [0.8499569000018932, 0.8499665000018932], [0.9675473000025547, 0.9675569000025548]]\n"
     ]
    }
   ],
   "metadata": {}
  },
  {
   "cell_type": "code",
   "execution_count": 50,
   "source": [
    "roots = []\n",
    "for el in l:\n",
    "    mid = el[0] + (el[1] - el[0]) / 2.0\n",
    "    while(el[1] - el[0] > 1e-6):\n",
    "        mid = el[0] + (el[1] - el[0]) / 2.0\n",
    "        if func(mid)*func(el[0]) < 0.0:\n",
    "            el[1] = mid\n",
    "        else:\n",
    "            el[0] = mid    \n",
    "    roots.append(mid)   \n",
    "print(roots)    "
   ],
   "outputs": [
    {
     "output_type": "stream",
     "name": "stdout",
     "text": [
      "[0.12063229999998368, 0.8499635000018931, 0.9675539000025547]\n"
     ]
    }
   ],
   "metadata": {}
  },
  {
   "cell_type": "code",
   "execution_count": 51,
   "source": [
    "for el in roots:\n",
    "    P1 = el**n * P3\n",
    "    U1 = U3 + 2.0 * C3 * (1 - el) / (g3 - 1)\n",
    "    C1 = C3 * el\n",
    "    rho1 = g3 * P1 / C1**2\n",
    "    D0 = U0 + (P1 - P0) / (rho0 * (U1 - U0))\n",
    "    print(el, P1, rho1, U1, C1, D0, sep='\\n')"
   ],
   "outputs": [
    {
     "output_type": "stream",
     "name": "stdout",
     "text": [
      "0.12063229999998368\n",
      "0.6233421908217975\n",
      "4.4922257385453886e-08\n",
      "172937.288274503\n",
      "4407.542345099404\n",
      "-34578.569827938845\n",
      "0.8499635000018931\n",
      "537382.1031514616\n",
      "0.0007800903608471671\n",
      "39699.418002154154\n",
      "31055.116399569168\n",
      "-70723.00250909204\n",
      "0.9675539000025547\n",
      "1331090.059172798\n",
      "0.0014911432595587537\n",
      "18217.415778033297\n",
      "35351.51684439334\n",
      "103074.25418589677\n"
     ]
    }
   ],
   "metadata": {}
  }
 ],
 "metadata": {
  "orig_nbformat": 4,
  "language_info": {
   "name": "python",
   "version": "3.8.5",
   "mimetype": "text/x-python",
   "codemirror_mode": {
    "name": "ipython",
    "version": 3
   },
   "pygments_lexer": "ipython3",
   "nbconvert_exporter": "python",
   "file_extension": ".py"
  },
  "kernelspec": {
   "name": "python3",
   "display_name": "Python 3.8.5 64-bit ('base': conda)"
  },
  "interpreter": {
   "hash": "ecb2ddf60c863a67d459e5a8fa23cf79a88eb5c0abba825ee7243bbcad8b4312"
  }
 },
 "nbformat": 4,
 "nbformat_minor": 2
}