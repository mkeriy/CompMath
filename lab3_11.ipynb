{
 "cells": [
  {
   "cell_type": "markdown",
   "metadata": {},
   "source": [
    "Задача. Модифицированным методом Эйлера решить:\n",
    "$$xy_{x}^{'} - xy^2 - (2x^2 + 1)y -x^3 = 0, y(1) = -3$$\n",
    "$$x \\in (1,2); \\varepsilon = 10^{-4}$$"
   ]
  },
  {
   "cell_type": "code",
   "execution_count": 7,
   "metadata": {},
   "outputs": [],
   "source": [
    "def func(x, y):\n",
    "    return (x + y)**2 + y/x\n",
    "\n",
    "X_0 = 1.0\n",
    "X_N = 2.0\n",
    "Y_0 = -3.0\n",
    "N = 40\n",
    "N1 = 1000000"
   ]
  },
  {
   "cell_type": "markdown",
   "metadata": {},
   "source": [
    "Модифицированный метод Эйлера "
   ]
  },
  {
   "cell_type": "code",
   "execution_count": 8,
   "metadata": {},
   "outputs": [],
   "source": [
    "def modif_Eulers_method(N, x0 = X_0, xn = X_N, y0 = Y_0): \n",
    "    y_h = []\n",
    "    x_h = []\n",
    "    y_i = y0\n",
    "    x_i = x0\n",
    "    h = (xn - x0) / N\n",
    "    while x_i - xn < 0.00000001: \n",
    "        x_h.append(x_i)\n",
    "        y_h.append(y_i)\n",
    "        f1 = func(x_i, y_i)\n",
    "        f2 = func(x_i + h/2, y_i + h * f1 / 2)\n",
    "        x_i += h\n",
    "        y_i += h * f2\n",
    "    return x_h, y_h"
   ]
  },
  {
   "cell_type": "code",
   "execution_count": 9,
   "metadata": {},
   "outputs": [
    {
     "name": "stdout",
     "output_type": "stream",
     "text": [
      "x: 1.0 1.0999999999999996 1.1999999999999993 1.299999999999999 1.3999999999999986 1.4999999999999982 1.5999999999999979 1.6999999999999975 1.7999999999999972 1.8999999999999968 1.9999999999999964\n",
      "y_N: -3.0 -2.918276263935888 -2.866805540425563 -2.8386184334706024 -2.8287322687469905 -2.8334906868469214 -2.8501500951490804 -2.876611695722437 -2.911242644152025 -2.952753582751579 -3.0001128581787757\n",
      "y_N1: -3.0 -2.91818181818151 -2.8666666666651017 -2.8384615384578242 -2.828571428564863 -2.8333333333232726 -2.8499999999860024 -2.8764705882169257 -2.911111111088014 -2.952631578919247 -2.999999999966718\n",
      "11 1000001\n",
      "0.00016084018212758622\n"
     ]
    }
   ],
   "source": [
    "xh, yh = modif_Eulers_method(N)\n",
    "xh1, yh_1 = modif_Eulers_method(N1)\n",
    "\n",
    "yh_f = yh_1[::int(N1/10)]\n",
    "xh_f = xh[::(int(N/10))]\n",
    "yh_fi = yh[::(int(N/10))]\n",
    "\n",
    "print('x:', *xh_f, sep=' ')\n",
    "print('y_N:', *yh_fi, sep=' ')\n",
    "print('y_N1:', *yh_f, sep=' ')\n",
    "\n",
    "print(len(yh_fi), len(yh_1))\n",
    "\n",
    "for i in range(len(yh_fi)):\n",
    "    yh_f[i] -= yh_fi[i]\n",
    "print(max(yh_f))"
   ]
  }
 ],
 "metadata": {
  "interpreter": {
   "hash": "1b4b9426b141da82d115195337a77d8080cd9f1dee7070e14fdede2b1303e61d"
  },
  "kernelspec": {
   "display_name": "Python 3.8.5 64-bit ('base': conda)",
   "language": "python",
   "name": "python3"
  },
  "language_info": {
   "codemirror_mode": {
    "name": "ipython",
    "version": 3
   },
   "file_extension": ".py",
   "mimetype": "text/x-python",
   "name": "python",
   "nbconvert_exporter": "python",
   "pygments_lexer": "ipython3",
   "version": "3.8.5"
  },
  "orig_nbformat": 4
 },
 "nbformat": 4,
 "nbformat_minor": 2
}
