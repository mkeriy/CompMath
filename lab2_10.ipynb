{
 "cells": [
  {
   "cell_type": "code",
   "execution_count": 57,
   "metadata": {},
   "outputs": [],
   "source": [
    "import pandas as pd\n",
    "from numpy import poly1d"
   ]
  },
  {
   "cell_type": "code",
   "execution_count": 58,
   "metadata": {},
   "outputs": [],
   "source": [
    "data = pd.read_csv('data10.csv')\n",
    "\n",
    "x = data['x']\n",
    "y = data['y']\n"
   ]
  },
  {
   "cell_type": "markdown",
   "metadata": {},
   "source": [
    "Интерполяционный многочлен в форме Ньютона\n",
    "\n",
    "    Коэффициенты b_n"
   ]
  },
  {
   "cell_type": "code",
   "execution_count": 59,
   "metadata": {},
   "outputs": [],
   "source": [
    "\n",
    "def f_n(a, x, n):\n",
    "    return [(a[i + 1] - a[i]) / (x[i + n] - x[i]) for i in range(len(a)-1)]\n",
    "\n",
    "coefs = [[] for _ in range(len(x))]\n",
    "coefs[0].extend(f_n(y, x, 1))\n",
    "\n",
    "for n in range(2, len(coefs)):\n",
    "    coefs[n - 1].extend(f_n(coefs[n - 2], x, n))\n",
    "\n",
    "b_n = [y[0]]\n",
    "\n",
    "for i in range(len(coefs) - 1):\n",
    "    b_n.append(coefs[i][0])\n"
   ]
  },
  {
   "cell_type": "markdown",
   "metadata": {},
   "source": [
    "Коэффициенты b_n"
   ]
  },
  {
   "cell_type": "code",
   "execution_count": 60,
   "metadata": {},
   "outputs": [
    {
     "name": "stdout",
     "output_type": "stream",
     "text": [
      "0.00123 0.034951011287457756 0.2399694418997176 0.6275508684268281 0.7576347788446149 0.46024316082757594 0.14289126197372365\n"
     ]
    }
   ],
   "source": [
    "print(*b_n, sep=' ')"
   ]
  },
  {
   "cell_type": "markdown",
   "metadata": {},
   "source": [
    "Коэффициенты интерполяционного многочлена"
   ]
  },
  {
   "cell_type": "code",
   "execution_count": 61,
   "metadata": {},
   "outputs": [
    {
     "name": "stdout",
     "output_type": "stream",
     "text": [
      "0.9830666463011832 -4.142168065258056 7.193306859307853 -6.658515905310795 3.51962635242906 -1.0361112767360188 0.14289126197372365\n"
     ]
    }
   ],
   "source": [
    "newton_coefs = [0 for _ in range(len(x))]\n",
    "newton_coefs[0] += b_n[0]\n",
    "\n",
    "for i in range(1, len(x)):\n",
    "    n_poly = poly1d(x[:i], True)\n",
    "    npc = n_poly.coef    \n",
    "    k = len(npc) - 1\n",
    "    j = 0\n",
    "    while k > -1:\n",
    "        newton_coefs[k] += b_n[i] * npc[j]\n",
    "        j += 1\n",
    "        k -= 1 \n",
    "print(*newton_coefs, sep=' ')"
   ]
  },
  {
   "cell_type": "markdown",
   "metadata": {},
   "source": [
    "Построение Сплайна "
   ]
  },
  {
   "cell_type": "code",
   "execution_count": 62,
   "metadata": {},
   "outputs": [
    {
     "name": "stdout",
     "output_type": "stream",
     "text": [
      "[-0.004320863415796573, 0.15333364296369695, -0.271844216577353, 0.12456018597939383]\n",
      "[0.5883234456898834, -2.0207523818413127, 2.386662320925761, -0.9590601427064825]\n",
      "[1.5732464773710992, -6.714942151258398, 9.843294287134414, -4.906810747180746]\n",
      "[3.6797519303217276, -18.951297579473565, 33.534605094821096, -20.195636516768694]\n",
      "[7.637130650853382, -46.04299624593536, 95.35466924896546, -67.21615561697305]\n",
      "[14.174694694835194, -97.59444817993968, 230.8541661572211, -185.9313627520516]\n"
     ]
    }
   ],
   "source": [
    "newton_coefs.reverse()\n",
    "\n",
    "p1 = poly1d(newton_coefs).deriv(1)\n",
    "\n",
    "p1_a = [p1(el) for el in x]\n",
    "spline_coefs = []\n",
    "\n",
    "def find_spline_coeffs(x, f, P):\n",
    "    den = (x[1] - x[0]) ** 3\n",
    "\n",
    "    a_3 = ((P[1] + P[0]) * (x[1] - x[0]) - 2 * (f[1] - f[0])) / den\n",
    "    a_2 = (3 * (f[1] - f[0]) * (x[1] + x[0]) - (P[1] * (x[1] + 2 * x[0]) + P[0] * (x[0] + 2 * x[1])) * (\n",
    "            x[1] - x[0])) / den\n",
    "    a_1 = ((P[1] * x[0] * (2 * x[1] + x[0]) + P[0] * x[1] * (x[1] + 2 * x[0])) * (x[1] - x[0]) - 6 * (f[1] - f[0]) * x[\n",
    "        0] * x[1]) / den\n",
    "    a_0 = ((f[1] * x[0] ** 2 * (3 * x[1] - x[0]) + f[0] * x[1] ** 2 * (x[1] - 3 * x[0])) - (\n",
    "            P[1] * x[0] ** 2 * x[1] + P[0] * x[0] * x[1] ** 2) * (x[1] - x[0])) / den\n",
    "\n",
    "    return [a_3, a_2, a_1, a_0]\n",
    "\n",
    "for i in range(len(x) - 1):\n",
    "    coeffs = find_spline_coeffs([x[i], x[i + 1]], [y[i], y[i + 1]], [p1_a[i], p1_a[i + 1]])\n",
    "    spline_coefs.append(coeffs)\n",
    "\n",
    "print(*spline_coefs, sep='\\n')\n",
    "\n"
   ]
  },
  {
   "cell_type": "markdown",
   "metadata": {},
   "source": [
    "Нахождение значения функции"
   ]
  },
  {
   "cell_type": "code",
   "execution_count": 63,
   "metadata": {},
   "outputs": [
    {
     "name": "stdout",
     "output_type": "stream",
     "text": [
      "1\n",
      "        3         2\n",
      "0.5883 x - 2.021 x + 2.387 x - 0.9591\n",
      "0.021075959365861707\n"
     ]
    }
   ],
   "source": [
    "def F(koord: float, section = x, spline_coefficients = spline_coefs):\n",
    "\n",
    "    a = 0\n",
    "    for i in range(len(section) - 1):\n",
    "        if section[i] - koord <= 1e-10 and 1e-10 <= section[i+1] - koord:\n",
    "            a = i \n",
    "            break\n",
    "        else:\n",
    "            a = -1\n",
    "    print(a)        \n",
    "    spline_poly = poly1d(spline_coefficients[a])\n",
    "    print(spline_poly)\n",
    "    if a == -1:\n",
    "        return -1\n",
    "    else:\n",
    "        return spline_poly(koord)\n",
    "\n",
    "print(F(1.3))"
   ]
  }
 ],
 "metadata": {
  "interpreter": {
   "hash": "1b4b9426b141da82d115195337a77d8080cd9f1dee7070e14fdede2b1303e61d"
  },
  "kernelspec": {
   "display_name": "Python 3.8.5 64-bit ('base': conda)",
   "name": "python3"
  },
  "language_info": {
   "codemirror_mode": {
    "name": "ipython",
    "version": 3
   },
   "file_extension": ".py",
   "mimetype": "text/x-python",
   "name": "python",
   "nbconvert_exporter": "python",
   "pygments_lexer": "ipython3",
   "version": "3.8.5"
  },
  "orig_nbformat": 4
 },
 "nbformat": 4,
 "nbformat_minor": 2
}
