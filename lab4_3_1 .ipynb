{
 "cells": [
  {
   "cell_type": "markdown",
   "metadata": {},
   "source": [
    "Найти решение краевой задачи для одномерного стационарного уравнения теплопроводности\n",
    "$$\\frac{d}{dx}[k(x)\\frac{du}{dx}] - q(x)u = -f(x)$$\n",
    "в 11 равноудаленных точках отрезка $[0, 1]$ с относительной точностью $0.0001$.\n",
    "Отладку программы произвести на модельной задаче с постоянными коэффициентами."
   ]
  },
  {
   "cell_type": "code",
   "execution_count": 157,
   "metadata": {},
   "outputs": [],
   "source": [
    "import numpy as np\n",
    "from pandas import DataFrame"
   ]
  },
  {
   "cell_type": "markdown",
   "metadata": {},
   "source": [
    "Условие. Задача 4.\n",
    "\n",
    "Краевые условия:\n",
    "$$u(0) = 1; u(1) = 0$$\n",
    "\\begin{equation*}\n",
    " \\begin{cases}\n",
    "    u(x_0 - 0) = u(x_0 + 0) \\\\\n",
    "    k(x_0 - 0) u_{x}(x_0 - 0) = k(x_0 + 0) u_{x}(x_0 + 0) \n",
    " \\end{cases}\n",
    "\\end{equation*}\n",
    "$$x < x_0 = 1/\\sqrt{2} : k(x) = e^{-x}; q(x) = x^2; f(x) = 1$$\n",
    "$$x > x_0: k(x) = 1; q(x) = e^{-x^2}; f(x) = cos(x)$$\n",
    "\n",
    "Модельная задача:\n",
    "$$x_0 = 1 / \\sqrt{2} : k(x) = k(x_0); q(x) = q(x_0); f(x) = f(x_0)$$"
   ]
  },
  {
   "cell_type": "code",
   "execution_count": 158,
   "metadata": {},
   "outputs": [],
   "source": [
    "def k(t : float, t0: float, flag = 0) -> float:\n",
    "    if t < t0:\n",
    "        return np.exp(-t)\n",
    "    elif t > t0:\n",
    "        return 1\n",
    "    else:\n",
    "        if flag == 0:\n",
    "            return np.exp(-t)\n",
    "        else: \n",
    "            return 1\n",
    "\n",
    "\n",
    "def q(t : float, t0 : float, flag = 0) -> float:\n",
    "    if t < t0:\n",
    "        return t**2\n",
    "    elif t > t0:\n",
    "        return np.exp(-(t)**2)\n",
    "    else:\n",
    "        if flag == 0:\n",
    "            return t**2\n",
    "        else: \n",
    "            return np.exp(-(t)**2)\n",
    "\n",
    "def f(t : float, t0 : float, flag = 0) -> float:\n",
    "    if t < t0:\n",
    "        return 1\n",
    "    elif t > t0:\n",
    "        return np.cos(t)\n",
    "    else:\n",
    "        if flag == 0:\n",
    "            return 1\n",
    "        else: \n",
    "            return np.cos(t)"
   ]
  },
  {
   "cell_type": "code",
   "execution_count": 159,
   "metadata": {},
   "outputs": [],
   "source": [
    "#условия\n",
    "accur = 10**(-4)\n",
    "\n",
    "u0 = 1\n",
    "u1 = 0\n",
    "\n",
    "x_0 = 2**(-0.5)\n",
    "\n",
    "k1 = k(x_0, x_0)\n",
    "k2 = k(x_0, x_0, 1)\n",
    "\n",
    "q1 = q(x_0, x_0)\n",
    "q2 = q(x_0, x_0, 1)\n",
    "\n",
    "f1 = f(x_0, x_0)\n",
    "f2 = f(x_0, x_0, 1)\n",
    "\n",
    "#разделения отрезка на n частей\n",
    "L = 11\n",
    "\n",
    "x = np.round(np.linspace(0.0, 1.0, L), 7)\n",
    "\n"
   ]
  },
  {
   "cell_type": "markdown",
   "metadata": {},
   "source": [
    "Аналитическое решение модельной задачи"
   ]
  },
  {
   "cell_type": "code",
   "execution_count": 160,
   "metadata": {},
   "outputs": [],
   "source": [
    "#решение характерестического уравнения\n",
    "lambda1 = (q1 / k1)**0.5\n",
    "lambda2 = (q2 / k2)**0.5\n",
    "\n",
    "#частные решения\n",
    "mu1 = f1 / q1\n",
    "mu2 = f2 / q2\n",
    "\n",
    "#вспомогательные коэффициенты\n",
    "a11 = np.exp(-lambda1 * x_0) - np.exp(lambda1 * x_0)\n",
    "a12 = np.exp(lambda2 * (2 - x_0)) - np.exp(lambda2 * x_0)\n",
    "a21 = k1 * lambda1 * (np.exp(-lambda1 * x_0) + np.exp(lambda1 * x_0))\n",
    "a22 = k2 * lambda2 * (np.exp(lambda2 * (2 - x_0)) + np.exp(lambda2 * x_0)) \n",
    "\n",
    "b1 = mu2 - mu1 + (mu1 - u0) * np.exp(lambda1 * x_0) - (mu2 - u1) * np.exp(lambda2 * (1 - x_0))\n",
    "b2 = k1 * lambda1 * (u0 - mu1) * np.exp(lambda1 * x_0) + k2 * lambda2 * (u1 - mu2) * np.exp(lambda2 * (1 - x_0))\n",
    "\n",
    "#коэффициенты для общего решения\n",
    "c1 = (((u0 - mu1) * a11 - b1) * a22 - ((u0 - mu1) * a21 - b2) * a12) / (a11 * a22 - a12 * a21) \n",
    "c2 = (b1 * a22 - b2 * a12) / (a11 * a22 - a12 * a21)\n",
    "c3 = (b2 * a11 - b1 * a21) / (a11 * a22 - a12 * a21)\n",
    "c4 = (u1 - mu2) * np.exp(lambda2) - c3 * np.exp(2 * lambda2)\n",
    "\n",
    "#нахождение аналитического решения\n",
    "u_alpha = np.round(c1 * np.exp(lambda1 * x[x<x_0]) + c2 * np.exp(-lambda1 * x[x<x_0]) + mu1, 7)\n",
    "u_beta = np.round(c3 * np.exp(lambda2 * x[x>x_0]) + c3 * np.exp(lambda2 * x[x>x_0]) + mu2, 7)\n",
    "\n",
    "u_analytical = list(u_alpha) + list(u_beta)\n"
   ]
  },
  {
   "cell_type": "markdown",
   "metadata": {},
   "source": [
    "Численное решение модельной задачи с заданной степенью точности(Метод встречных прогонок)"
   ]
  },
  {
   "cell_type": "code",
   "execution_count": 161,
   "metadata": {},
   "outputs": [
    {
     "name": "stdout",
     "output_type": "stream",
     "text": [
      "0.1604692530840921\n"
     ]
    },
    {
     "ename": "IndexError",
     "evalue": "list index out of range",
     "output_type": "error",
     "traceback": [
      "\u001b[0;31m---------------------------------------------------------------------------\u001b[0m",
      "\u001b[0;31mIndexError\u001b[0m                                Traceback (most recent call last)",
      "\u001b[0;32m<ipython-input-161-95b41e79cd09>\u001b[0m in \u001b[0;36m<module>\u001b[0;34m\u001b[0m\n\u001b[1;32m     37\u001b[0m \u001b[0mu_a\u001b[0m \u001b[0;34m=\u001b[0m \u001b[0;34m[\u001b[0m\u001b[0mcoefs1\u001b[0m\u001b[0;34m[\u001b[0m\u001b[0;36m0\u001b[0m\u001b[0;34m]\u001b[0m\u001b[0;34m[\u001b[0m\u001b[0;36m0\u001b[0m\u001b[0;34m]\u001b[0m \u001b[0;34m*\u001b[0m \u001b[0mu_l_ab\u001b[0m \u001b[0;34m+\u001b[0m \u001b[0mcoefs1\u001b[0m\u001b[0;34m[\u001b[0m\u001b[0;36m0\u001b[0m\u001b[0;34m]\u001b[0m\u001b[0;34m[\u001b[0m\u001b[0;36m1\u001b[0m\u001b[0;34m]\u001b[0m\u001b[0;34m]\u001b[0m\u001b[0;34m\u001b[0m\u001b[0;34m\u001b[0m\u001b[0m\n\u001b[1;32m     38\u001b[0m \u001b[0;32mfor\u001b[0m \u001b[0mi\u001b[0m \u001b[0;32min\u001b[0m \u001b[0mrange\u001b[0m\u001b[0;34m(\u001b[0m\u001b[0;36m1\u001b[0m\u001b[0;34m,\u001b[0m \u001b[0ml_1\u001b[0m\u001b[0;34m)\u001b[0m\u001b[0;34m:\u001b[0m\u001b[0;34m\u001b[0m\u001b[0;34m\u001b[0m\u001b[0m\n\u001b[0;32m---> 39\u001b[0;31m     \u001b[0mu_a\u001b[0m\u001b[0;34m.\u001b[0m\u001b[0mappend\u001b[0m\u001b[0;34m(\u001b[0m\u001b[0mcoefs1\u001b[0m\u001b[0;34m[\u001b[0m\u001b[0mi\u001b[0m\u001b[0;34m]\u001b[0m\u001b[0;34m[\u001b[0m\u001b[0;36m0\u001b[0m\u001b[0;34m]\u001b[0m \u001b[0;34m*\u001b[0m \u001b[0mu_a\u001b[0m\u001b[0;34m[\u001b[0m\u001b[0mi\u001b[0m \u001b[0;34m-\u001b[0m \u001b[0;36m1\u001b[0m\u001b[0;34m]\u001b[0m \u001b[0;34m+\u001b[0m \u001b[0mcoefs1\u001b[0m\u001b[0;34m[\u001b[0m\u001b[0mi\u001b[0m\u001b[0;34m]\u001b[0m\u001b[0;34m[\u001b[0m\u001b[0;36m1\u001b[0m\u001b[0;34m]\u001b[0m\u001b[0;34m)\u001b[0m\u001b[0;34m\u001b[0m\u001b[0;34m\u001b[0m\u001b[0m\n\u001b[0m\u001b[1;32m     40\u001b[0m \u001b[0mu_a\u001b[0m\u001b[0;34m.\u001b[0m\u001b[0mreverse\u001b[0m\u001b[0;34m(\u001b[0m\u001b[0;34m)\u001b[0m\u001b[0;34m\u001b[0m\u001b[0;34m\u001b[0m\u001b[0m\n\u001b[1;32m     41\u001b[0m \u001b[0;34m\u001b[0m\u001b[0m\n",
      "\u001b[0;31mIndexError\u001b[0m: list index out of range"
     ]
    }
   ],
   "source": [
    "h = 1 / L\n",
    "l_1 = np.max(np.where(x <= x_0))\n",
    "l_2 = np.min(np.where(x >= x_0))\n",
    "\n",
    "# e = l = [1, l_1 -1]\n",
    "ae = k1\n",
    "be = -2 * k1 - q1 * h**2 \n",
    "ce = k1\n",
    "de = -f1 * h**2\n",
    "\n",
    "#r = l = [L - 1; l_2 + 1]\n",
    "ar = k2\n",
    "br = -2 * k2 - q2 * h**2\n",
    "cr = k2\n",
    "dr = -f2 * h**2\n",
    "\n",
    "#прямая прогонка\n",
    "alpha1 = -ae / be\n",
    "beta1 = (de - ce * u0) / be\n",
    "\n",
    "alphaL = -cr / br \n",
    "betaL = (dr - cr * u1) / br\n",
    "\n",
    "coefs1 = [[alpha1, beta1]]\n",
    "coefs2 = [[alphaL, betaL]]\n",
    "\n",
    "for i in range(1, l_1 - 1):\n",
    "    coefs1.append([- ae / (be + ce * coefs1[i - 1][0]), (de - ce * coefs1[i-1][1]) / (be + ce * coefs1[i-1][0])])\n",
    "\n",
    "for i in range(1, L - l_2 - 1):\n",
    "    coefs2.append([- cr / (br + ar * coefs2[i - 1][0]), (dr - ar * coefs2[i - 1][1]) / (br + ar * coefs2[i - 1][0])])\n",
    "\n",
    "u_l_ab = (k1 * coefs1[-1][1] + k2 * coefs2[0][1]) / (k1 * (1 - coefs1[-1][0]) + k2 * (1 - coefs2[0][0]))\n",
    "print(u_l_ab)\n",
    "#обратная прогонка\n",
    "coefs1.reverse()\n",
    "u_a = [coefs1[0][0] * u_l_ab + coefs1[0][1]]\n",
    "for i in range(1, l_1):\n",
    "    u_a.append(coefs1[i][0] * u_a[i - 1] + coefs1[i][1])\n",
    "u_a.reverse()\n",
    "\n",
    "u_b = [coefs2[0][0] * u_l_ab + coefs2[0][1]]\n",
    "for i in range(1, L - l_2 + 1):\n",
    "    u_b.append(coefs2[i][0] * u_b[i - 1] + coefs2[i][1])\n",
    "\n",
    "u_sweep = u_a + u_b\n"
   ]
  },
  {
   "cell_type": "code",
   "execution_count": null,
   "metadata": {},
   "outputs": [
    {
     "name": "stdout",
     "output_type": "stream",
     "text": [
      "0.0 0.1 0.2 0.3 0.4 0.5 0.6 0.7 0.8 0.9 1.0\n",
      "Analytical solve: 1.0 0.9322537 0.8536708 0.7634536 0.6606864 0.5443264 0.4131926 0.265954 -0.8888377 -1.0623466 -1.2499084\n",
      "Sweep solve: 0.9387626294404172 0.8686314100778756 0.7890185973806791 0.6992569849927854 0.5985943131172495 0.48618696409736284 0.36109289236042086 0.11398768115619673 0.08192750751395507 0.07043541944770111 0.06833984774539287\n",
      "Error: 0.06123737055958278 0.06362228992212438 0.06465220261932081 0.06419661500721452 0.062092086882750475 0.05813943590263715 0.05209970763957916 0.1519663188438033 -0.970765207513955 -1.132782019447701 -1.318248247745393\n",
      "Max error: 0.1519663188438033\n"
     ]
    }
   ],
   "source": [
    "print(*x)\n",
    "print('Analytical solve:', *u_analytical)\n",
    "print('Sweep solve:', *u_sweep)\n",
    "print('Error:', *(np.array(u_analytical) - np.array(u_sweep)))\n",
    "print('Max error:', max(np.array(u_analytical) - np.array(u_sweep)))"
   ]
  },
  {
   "cell_type": "markdown",
   "metadata": {},
   "source": [
    "Численное решение задачи с переменными коэффициентами"
   ]
  },
  {
   "cell_type": "code",
   "execution_count": null,
   "metadata": {},
   "outputs": [],
   "source": []
  }
 ],
 "metadata": {
  "interpreter": {
   "hash": "1b4b9426b141da82d115195337a77d8080cd9f1dee7070e14fdede2b1303e61d"
  },
  "kernelspec": {
   "display_name": "Python 3.8.5 ('base')",
   "language": "python",
   "name": "python3"
  },
  "language_info": {
   "codemirror_mode": {
    "name": "ipython",
    "version": 3
   },
   "file_extension": ".py",
   "mimetype": "text/x-python",
   "name": "python",
   "nbconvert_exporter": "python",
   "pygments_lexer": "ipython3",
   "version": "3.8.5"
  },
  "orig_nbformat": 4
 },
 "nbformat": 4,
 "nbformat_minor": 2
}
